{
 "cells": [
  {
   "cell_type": "markdown",
   "metadata": {},
   "source": [
    "## Regular Expression"
   ]
  },
  {
   "cell_type": "code",
   "execution_count": 1,
   "metadata": {},
   "outputs": [],
   "source": [
    "import re\n"
   ]
  },
  {
   "cell_type": "code",
   "execution_count": 2,
   "metadata": {},
   "outputs": [
    {
     "name": "stdout",
     "output_type": "stream",
     "text": [
      "\tTab\n"
     ]
    }
   ],
   "source": [
    "print('\\tTab')"
   ]
  },
  {
   "cell_type": "code",
   "execution_count": 3,
   "metadata": {},
   "outputs": [
    {
     "name": "stdout",
     "output_type": "stream",
     "text": [
      "\\tTab\n"
     ]
    }
   ],
   "source": [
    "print(r'\\tTab')             # r for raw string (here it doesnt interpret backslash in escape way)"
   ]
  },
  {
   "cell_type": "code",
   "execution_count": 26,
   "metadata": {},
   "outputs": [],
   "source": [
    "sentence = \" This is a sentence with numbers and alphabets:  12345, abcde, 789. amazon.com, google.com.... 123.456.789 , 567-555-790... cat mat bat rat\""
   ]
  },
  {
   "cell_type": "code",
   "execution_count": 6,
   "metadata": {},
   "outputs": [
    {
     "data": {
      "text/plain": [
       "re.compile(r'abc', re.UNICODE)"
      ]
     },
     "execution_count": 6,
     "metadata": {},
     "output_type": "execute_result"
    }
   ],
   "source": [
    "pattern = re.compile(r'abc')\n",
    "pattern\n"
   ]
  },
  {
   "cell_type": "code",
   "execution_count": 7,
   "metadata": {},
   "outputs": [
    {
     "name": "stdout",
     "output_type": "stream",
     "text": [
      "<_sre.SRE_Match object; span=(56, 59), match='abc'>\n"
     ]
    }
   ],
   "source": [
    "matches = pattern.finditer(sentence)\n",
    "for match in matches:\n",
    "    print(match)"
   ]
  },
  {
   "cell_type": "code",
   "execution_count": 8,
   "metadata": {},
   "outputs": [
    {
     "data": {
      "text/plain": [
       "'abc'"
      ]
     },
     "execution_count": 8,
     "metadata": {},
     "output_type": "execute_result"
    }
   ],
   "source": [
    "sentence[56:59]"
   ]
  },
  {
   "cell_type": "code",
   "execution_count": 20,
   "metadata": {},
   "outputs": [
    {
     "name": "stdout",
     "output_type": "stream",
     "text": [
      "<_sre.SRE_Match object; span=(49, 50), match='1'>\n",
      "<_sre.SRE_Match object; span=(50, 51), match='2'>\n",
      "<_sre.SRE_Match object; span=(51, 52), match='3'>\n",
      "<_sre.SRE_Match object; span=(52, 53), match='4'>\n",
      "<_sre.SRE_Match object; span=(53, 54), match='5'>\n",
      "<_sre.SRE_Match object; span=(63, 64), match='7'>\n",
      "<_sre.SRE_Match object; span=(64, 65), match='8'>\n",
      "<_sre.SRE_Match object; span=(65, 66), match='9'>\n"
     ]
    }
   ],
   "source": [
    "p = re.compile(r'\\d')                                    # \\d is for any digit btw 1-9\n",
    "m = p.finditer(sentence)\n",
    "for ma in m:\n",
    "    print(ma)"
   ]
  },
  {
   "cell_type": "code",
   "execution_count": 11,
   "metadata": {},
   "outputs": [
    {
     "data": {
      "text/plain": [
       "'1'"
      ]
     },
     "execution_count": 11,
     "metadata": {},
     "output_type": "execute_result"
    }
   ],
   "source": [
    "sentence[49:50]"
   ]
  },
  {
   "cell_type": "code",
   "execution_count": 16,
   "metadata": {},
   "outputs": [
    {
     "name": "stdout",
     "output_type": "stream",
     "text": [
      "<_sre.SRE_Match object; span=(0, 1), match=' '>\n",
      "<_sre.SRE_Match object; span=(5, 6), match=' '>\n",
      "<_sre.SRE_Match object; span=(8, 9), match=' '>\n",
      "<_sre.SRE_Match object; span=(10, 11), match=' '>\n",
      "<_sre.SRE_Match object; span=(19, 20), match=' '>\n",
      "<_sre.SRE_Match object; span=(24, 25), match=' '>\n",
      "<_sre.SRE_Match object; span=(32, 33), match=' '>\n",
      "<_sre.SRE_Match object; span=(36, 37), match=' '>\n",
      "<_sre.SRE_Match object; span=(47, 48), match=' '>\n",
      "<_sre.SRE_Match object; span=(48, 49), match=' '>\n",
      "<_sre.SRE_Match object; span=(55, 56), match=' '>\n",
      "<_sre.SRE_Match object; span=(62, 63), match=' '>\n",
      "<_sre.SRE_Match object; span=(67, 68), match=' '>\n",
      "<_sre.SRE_Match object; span=(79, 80), match=' '>\n"
     ]
    }
   ],
   "source": [
    "p = re.compile(r'\\s')                                    # \\s is for spaces\n",
    "m = p.finditer(sentence)\n",
    "for ma in m:\n",
    "    print(ma)"
   ]
  },
  {
   "cell_type": "code",
   "execution_count": 25,
   "metadata": {},
   "outputs": [
    {
     "name": "stdout",
     "output_type": "stream",
     "text": [
      "<_sre.SRE_Match object; span=(95, 106), match='123.456.789'>\n",
      "<_sre.SRE_Match object; span=(109, 120), match='567-555-790'>\n"
     ]
    }
   ],
   "source": [
    "pattern = re.compile('\\d\\d\\d[.-]\\d\\d\\d[-.]\\d\\d\\d')\n",
    "matches = pattern.finditer(sentence)\n",
    "for match in matches:\n",
    "    print(match)"
   ]
  },
  {
   "cell_type": "code",
   "execution_count": 28,
   "metadata": {},
   "outputs": [
    {
     "name": "stdout",
     "output_type": "stream",
     "text": [
      "<_sre.SRE_Match object; span=(124, 127), match='cat'>\n",
      "<_sre.SRE_Match object; span=(128, 131), match='mat'>\n",
      "<_sre.SRE_Match object; span=(136, 139), match='rat'>\n"
     ]
    }
   ],
   "source": [
    "pattern = re.compile('[^b]at')                         # ^ inside [] means anything that is not b\n",
    "matches = pattern.finditer(sentence)                   # ^ outside would mean beginning of\n",
    "for match in matches:\n",
    "    print(match)"
   ]
  },
  {
   "cell_type": "markdown",
   "metadata": {},
   "source": [
    "## Quantifiers:\n",
    "### *              - 0 or more\n",
    "### +             - 1 or more\n",
    "### ?             - 0 or one\n",
    "### {3}           - exactly three\n",
    "### {3,4}        - range of numbers (minimum, maximum)"
   ]
  },
  {
   "cell_type": "code",
   "execution_count": null,
   "metadata": {},
   "outputs": [],
   "source": [
    "pattern = re.compile('\\d{3}[.-]\\d{3}[-.]\\d{3}')\n",
    "matches = pattern.finditer(sentence)\n",
    "for match in matches:\n",
    "    print(match)"
   ]
  },
  {
   "cell_type": "code",
   "execution_count": 30,
   "metadata": {},
   "outputs": [],
   "source": [
    "names = \"\"\"\n",
    "\n",
    "Mr T\n",
    "Mr. Po\n",
    "Mr. Pomogra\n",
    "Ms Yayochahi\n",
    "Mrs. GurpreetiPreeti\n",
    "\n",
    "\"\"\""
   ]
  },
  {
   "cell_type": "code",
   "execution_count": 33,
   "metadata": {},
   "outputs": [
    {
     "name": "stdout",
     "output_type": "stream",
     "text": [
      "<_sre.SRE_Match object; span=(2, 6), match='Mr T'>\n",
      "<_sre.SRE_Match object; span=(7, 13), match='Mr. Po'>\n",
      "<_sre.SRE_Match object; span=(14, 25), match='Mr. Pomogra'>\n",
      "<_sre.SRE_Match object; span=(26, 38), match='Ms Yayochahi'>\n",
      "<_sre.SRE_Match object; span=(39, 59), match='Mrs. GurpreetiPreeti'>\n"
     ]
    }
   ],
   "source": [
    "pattern = re.compile(\"M(r|s|rs)\\.?\\s[A-Z]\\w*\")\n",
    "matches = pattern.finditer(names)\n",
    "for match in matches:\n",
    "    print(match)\n",
    "    \n",
    "\n",
    "    \n",
    "# start with M, then () to specify a GROUP, which is either r or s or rs, then a '.' fullstop (escaped by \\) \n",
    "# which is followed by a ?, which means zero or one occurrences of a '.'\n",
    "# followed by \\s for a space followed by [A-Z] any capital letter, followed by zero or more occurrences of a \n",
    "# word character '\\w', follwed by * indicates zero or more occurrences of it"
   ]
  },
  {
   "cell_type": "code",
   "execution_count": 34,
   "metadata": {},
   "outputs": [],
   "source": [
    "emails = \"\"\"\n",
    "\n",
    "coreyMSchaffer@gmail.com\n",
    "shivangi.tomar1301@nitk.edu\n",
    "cobey-321-schaff@my-work.net\n",
    "\n",
    "\n",
    "\"\"\""
   ]
  },
  {
   "cell_type": "code",
   "execution_count": 36,
   "metadata": {},
   "outputs": [
    {
     "name": "stdout",
     "output_type": "stream",
     "text": [
      "<_sre.SRE_Match object; span=(2, 26), match='coreyMSchaffer@gmail.com'>\n",
      "<_sre.SRE_Match object; span=(36, 54), match='tomar1301@nitk.edu'>\n"
     ]
    }
   ],
   "source": [
    "pattern = re.compile('\\w*@\\w+\\.\\w+')        # \\w holds a-z, A-Z, 0-9 (but not any special characters)\n",
    "matches = pattern.finditer(emails)\n",
    "for match in matches:\n",
    "    print(match)"
   ]
  },
  {
   "cell_type": "code",
   "execution_count": 43,
   "metadata": {},
   "outputs": [
    {
     "name": "stdout",
     "output_type": "stream",
     "text": [
      "<_sre.SRE_Match object; span=(2, 26), match='coreyMSchaffer@gmail.com'>\n",
      "<_sre.SRE_Match object; span=(27, 54), match='shivangi.tomar1301@nitk.edu'>\n",
      "<_sre.SRE_Match object; span=(55, 83), match='cobey-321-schaff@my-work.net'>\n"
     ]
    }
   ],
   "source": [
    "pattern = re.compile('[a-zA-Z0-9.-]+@[a-z-]+\\.(com|edu|net)')\n",
    "matches = pattern.finditer(emails)\n",
    "for match in matches:\n",
    "    print(match)"
   ]
  },
  {
   "cell_type": "code",
   "execution_count": 44,
   "metadata": {},
   "outputs": [],
   "source": [
    "urls = \"\"\"\n",
    "\n",
    "https://google.com\n",
    "http://coreyms.com\n",
    "https://www.youtube.com\n",
    "http://www.study.gov\n",
    "\n",
    "\"\"\""
   ]
  },
  {
   "cell_type": "code",
   "execution_count": 53,
   "metadata": {},
   "outputs": [
    {
     "name": "stdout",
     "output_type": "stream",
     "text": [
      "<_sre.SRE_Match object; span=(2, 20), match='https://google.com'>\n",
      "https://google.com\n",
      "None\n",
      ".com\n",
      "<_sre.SRE_Match object; span=(21, 39), match='http://coreyms.com'>\n",
      "http://coreyms.com\n",
      "None\n",
      ".com\n",
      "<_sre.SRE_Match object; span=(40, 63), match='https://www.youtube.com'>\n",
      "https://www.youtube.com\n",
      "www.\n",
      ".com\n",
      "<_sre.SRE_Match object; span=(64, 84), match='http://www.study.com'>\n",
      "http://www.study.com\n",
      "www.\n",
      ".com\n"
     ]
    }
   ],
   "source": [
    "pattern = re.compile('https?://(www\\.)?(\\w+)(\\.\\w+)')         # we have made 3 () groups here\n",
    "matches = pattern.finditer(urls)\n",
    "for match in matches:\n",
    "    print(match)\n",
    "    print(match.group(0))           # group(0) referse to entire string \n",
    "    print(match.group(1))           # group(1) refers to the first grp, here it is the optional www\n",
    "    print(match.group(3))"
   ]
  },
  {
   "cell_type": "code",
   "execution_count": 60,
   "metadata": {},
   "outputs": [],
   "source": [
    "pattern = re.compile('https?://(www\\.)?(\\w+)(\\.\\w+)')         \n",
    "subbed_urls = pattern.sub(r'\\2\\3', urls)               # substitue(replace) the matched pattern with group 2 and 3\n",
    "\n",
    "\n",
    "# important to write r'' in the stirng to read it as raw string"
   ]
  },
  {
   "cell_type": "code",
   "execution_count": 59,
   "metadata": {},
   "outputs": [
    {
     "name": "stdout",
     "output_type": "stream",
     "text": [
      "\n",
      "\n",
      "google.com\n",
      "coreyms.com\n",
      "youtube.com\n",
      "study.com\n",
      "\n",
      "\n"
     ]
    }
   ],
   "source": [
    "print(subbed_urls)"
   ]
  },
  {
   "cell_type": "code",
   "execution_count": 63,
   "metadata": {},
   "outputs": [
    {
     "name": "stdout",
     "output_type": "stream",
     "text": [
      "<_sre.SRE_Match object; span=(17, 22), match='STart'>\n"
     ]
    }
   ],
   "source": [
    "sentence = 'This is just the STart ohh YYayy'\n",
    "\n",
    "pattern = re.compile(r'start', re.I)          # to ignore cace, re.I  or re.IGNORECASE (flags)\n",
    "match = pattern.search(sentence)                       # search returns the first match is finds\n",
    "print(match)"
   ]
  },
  {
   "cell_type": "code",
   "execution_count": null,
   "metadata": {},
   "outputs": [],
   "source": []
  }
 ],
 "metadata": {
  "kernelspec": {
   "display_name": "Python 3",
   "language": "python",
   "name": "python3"
  },
  "language_info": {
   "codemirror_mode": {
    "name": "ipython",
    "version": 3
   },
   "file_extension": ".py",
   "mimetype": "text/x-python",
   "name": "python",
   "nbconvert_exporter": "python",
   "pygments_lexer": "ipython3",
   "version": "3.6.9"
  }
 },
 "nbformat": 4,
 "nbformat_minor": 4
}
